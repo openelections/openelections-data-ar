{
 "cells": [
  {
   "cell_type": "code",
   "execution_count": 1,
   "metadata": {},
   "outputs": [],
   "source": [
    "import clarify\n",
    "import clarify.jurisdiction\n",
    "import sys\n",
    "import csv\n",
    "import re\n",
    "import requests\n",
    "import zipfile\n",
    "import shutil\n",
    "import pandas as pd"
   ]
  },
  {
   "cell_type": "code",
   "execution_count": 3,
   "metadata": {},
   "outputs": [],
   "source": [
    "def output_file(outfile,items):\n",
    "  \"write items to file\"\n",
    "  with open(outfile, \"w\") as csv_outfile:\n",
    "    outfile = csv.writer(csv_outfile)\n",
    "    outfile.writerow(['county', 'precinct', 'office', 'district',\n",
    "                      'party', 'candidate', 'votes', 'election_day', \n",
    "                      'early_vote', 'absentee', 'provisional', 'hand_count'])\n",
    "    outfile.writerows(items)"
   ]
  },
  {
   "cell_type": "code",
   "execution_count": 6,
   "metadata": {},
   "outputs": [],
   "source": [
    "pres_election_2014_url = \"https://results.enr.clarityelections.com/AR/53237/149792/Web01/en/summary.html\"\n",
    "pres_election_file =     \"20141104__ar__general__precinct.csv\"\n",
    "\n",
    "primary_election_may_2014_url = \"https://results.enr.clarityelections.com/AR/51266/133405/en/summary.html\"\n",
    "primary_election_may_2014_file = \"20140520__ar__primary__precinct.csv\"\n",
    "\n",
    "primary_eleciton_june_2014_url = \"http://results.enr.clarityelections.com/AR/51821/134305/en/select-county.html\"\n",
    "primary_election_june_2014_file = \"20140610__ar__primary__precinct.csv\""
   ]
  },
  {
   "cell_type": "code",
   "execution_count": 9,
   "metadata": {
    "collapsed": true
   },
   "outputs": [
    {
     "ename": "NameError",
     "evalue": "name 'get_county_files' is not defined",
     "output_type": "error",
     "traceback": [
      "\u001b[0;31m---------------------------------------------------------------------------\u001b[0m",
      "\u001b[0;31mNameError\u001b[0m                                 Traceback (most recent call last)",
      "\u001b[0;32m<ipython-input-9-e38128a4b579>\u001b[0m in \u001b[0;36m<module>\u001b[0;34m()\u001b[0m\n\u001b[1;32m      1\u001b[0m \u001b[0;31m# for testing\u001b[0m\u001b[0;34m\u001b[0m\u001b[0;34m\u001b[0m\u001b[0m\n\u001b[0;32m----> 2\u001b[0;31m \u001b[0mget_county_files\u001b[0m\u001b[0;34m(\u001b[0m\u001b[0mprimary_election_may_2014_url\u001b[0m\u001b[0;34m,\u001b[0m \u001b[0;34m\"may2014_\"\u001b[0m\u001b[0;34m)\u001b[0m\u001b[0;34m\u001b[0m\u001b[0m\n\u001b[0m",
      "\u001b[0;31mNameError\u001b[0m: name 'get_county_files' is not defined"
     ]
    }
   ],
   "source": [
    "# for testing\n",
    "get_county_files(primary_election_may_2014_url, \"may2014_\")"
   ]
  },
  {
   "cell_type": "code",
   "execution_count": null,
   "metadata": {},
   "outputs": [],
   "source": [
    "### Getting Functions"
   ]
  },
  {
   "cell_type": "code",
   "execution_count": 27,
   "metadata": {},
   "outputs": [],
   "source": [
    "# using the summary url, downloads all the detail xml files , unzips them, \n",
    "# renames the detail to prefix_county.xml\n",
    "def get_county_files(c_url, prefix):\n",
    "    \n",
    "    jurisdiction = clarify.Jurisdiction(url=c_url, level='county')\n",
    "\n",
    "    for j in jurisdiction.get_subjurisdictions():\n",
    "        print(\"County: \", j.name, j.report_url('xml'))\n",
    "        \n",
    "        if j.report_url('xml'):\n",
    "            detail_url = j.report_url('xml').replace(\"http:\", \"https:\")\n",
    "            r = requests.get(detail_url, allow_redirects=True)\n",
    "            zip_filename = j.name + \"_detailxml.zip\"\n",
    "            open(zip_filename, 'wb').write(r.content)\n",
    "            zip = zipfile.ZipFile(zip_filename)\n",
    "            zip.extractall()\n",
    "            shutil.move(\"detail.xml\", prefix + j.name + \".xml\")"
   ]
  },
  {
   "cell_type": "code",
   "execution_count": null,
   "metadata": {},
   "outputs": [],
   "source": [
    "get_county_files()"
   ]
  },
  {
   "cell_type": "code",
   "execution_count": null,
   "metadata": {},
   "outputs": [],
   "source": [
    "### Processing Functions"
   ]
  },
  {
   "cell_type": "code",
   "execution_count": 25,
   "metadata": {},
   "outputs": [],
   "source": [
    "# Rolls up votes and adds the election day, absentee, early voting, and provisional values to the item\n",
    "def rollup_by_vote_type(items):\n",
    "    df = pd.DataFrame.from_dict(items)\n",
    "    grp = df.groupby(['county', 'precinct', 'office', 'district', 'party', 'candidate'])\n",
    "    grouped_items = []\n",
    "    \n",
    "    for k, gg in grp:\n",
    "        votes = sum(gg['votes'])\n",
    "        election_day = sum(gg['election_day'])\n",
    "        early_vote = sum(gg['early_vote'])\n",
    "        absentee = sum(gg['absentee'])\n",
    "        provisional = sum(gg['provisional'])\n",
    "        hand_count = sum(gg['hand_count'])\n",
    "\n",
    "        print(k)\n",
    "        gitem = ( str(k[0]), str(k[1]), str(k[2]), str(k[3]), str(k[4]), str(k[5]),\n",
    "          str(int(votes)), str(int(election_day)), str(int(early_vote)),\n",
    "          str(int(absentee)), str(int(provisional)), str(int(hand_count)) )\n",
    "\n",
    "        if votes != (election_day + early_vote + absentee + provisional + hand_count):\n",
    "            print(\"VOTE ISSUE\", votes, election_day, early_vote, absentee, provisional, hand_count, gitem )\n",
    "\n",
    "        grouped_items = grouped_items + list([gitem])\n",
    "\n",
    "    return(grouped_items)"
   ]
  },
  {
   "cell_type": "code",
   "execution_count": 20,
   "metadata": {},
   "outputs": [],
   "source": [
    "# \"process a file and return list  of items\"\n",
    "def extract_data_from_file(filename):\n",
    "    items = []\n",
    "    p = clarify.Parser()\n",
    "    p.parse(filename)\n",
    "    print( \"Processing \", filename, p.election_name, p.region )\n",
    "    county = p.region\n",
    "\n",
    "    for r in p.results:\n",
    "        if r.votes > 0:\n",
    "            if r.choice is not None:\n",
    "                # This is called to build a line from results\n",
    "                item = buildLine(county, r)\n",
    "                if item is not None:\n",
    "                    items.append( item )\n",
    "\n",
    "    return(items)"
   ]
  },
  {
   "cell_type": "code",
   "execution_count": 18,
   "metadata": {},
   "outputs": [],
   "source": [
    "#Data files must be prefected and named <prefix><county>.xml\n",
    "\n",
    "#Processes each file, extracts vote totals, rolls up by vote type,\n",
    "#and returns a list of items\n",
    "def process_county_files(c_url, outfile, prefix):\n",
    "\n",
    "    jurisdiction = clarify.Jurisdiction(url=c_url, level='county')\n",
    "    \n",
    "    allitems = []\n",
    "    for j in jurisdiction.get_subjurisdictions():\n",
    "        county = j.name\n",
    "        if j is not None:\n",
    "            try:\n",
    "                if j.report_url('xml'):\n",
    "                    filename = prefix + j.name + \".xml\"\n",
    "                    # Callls helper functions\n",
    "                    items = extract_data_from_file(filename)\n",
    "                    grouped_items = rollup_by_vote_type(items)\n",
    "                    allitems = allitems + grouped_items\n",
    "                    \n",
    "            except Exception as ex:\n",
    "                print(\"FAILED: Processing \", county, filename, j.report_url('xml'))\n",
    "                if hasattr(ex, 'message'):\n",
    "                    print(ex.message)\n",
    "                else:\n",
    "                    print(ex)\n",
    "\n",
    "    output_file(outfile, allitems)"
   ]
  },
  {
   "cell_type": "code",
   "execution_count": 8,
   "metadata": {},
   "outputs": [],
   "source": [
    "# For testing/debugging - handle one xml file\n",
    "def process_single_file(filename):\n",
    "  items = extract_data_from_file(filename)\n",
    "  gitems = rollup_by_vote_type(items)\n",
    "  print(\"Num items\", len(items), \" num gitems \", len(gitems))\n",
    "  output_file(\"single.csv\", gitems)\n",
    "\n",
    "# For testing/debugging - print vote types\n",
    "def print_vote_types(items):\n",
    "  df = pd.DataFrame.from_dict(items)\n",
    "  print(items[0])\n",
    "\n",
    "  vt_grp = df.groupby(['vote_type'])\n",
    "  for v, vg in vt_grp:\n",
    "    print(\"print_vote_types: \", v)"
   ]
  },
  {
   "cell_type": "code",
   "execution_count": null,
   "metadata": {},
   "outputs": [],
   "source": [
    "#### Need to update"
   ]
  },
  {
   "cell_type": "code",
   "execution_count": 26,
   "metadata": {},
   "outputs": [],
   "source": [
    "def print_vote_types(items):\n",
    "  df = pd.DataFrame.from_dict(items)\n",
    "  print(items[0])\n",
    "\n",
    "  vt_grp = df.groupby(['vote_type'])\n",
    "  for v, vg in vt_grp:\n",
    "    print(\"print_vote_types: \", v)"
   ]
  },
  {
   "cell_type": "code",
   "execution_count": 2,
   "metadata": {},
   "outputs": [],
   "source": [
    "def buildLine(county, r):\n",
    "  # \"extract vote totals one for one subjurisdiction (precinct)\"\n",
    "\n",
    "  district = \"\"\n",
    "  precinct = r.jurisdiction\n",
    "\n",
    "  hand_count = 0\n",
    "  total_votes = 0\n",
    "  early_vote = 0\n",
    "  election_day = 0\n",
    "  provisional = 0\n",
    "  absentee = 0\n",
    "\n",
    "  party = \"unknown party\"\n",
    "  candidate = \"unknown candidate\"\n",
    "  office = r.contest.text\n",
    "  office = office.replace('  ', ' ')\n",
    "  parts = office.split(\",\")\n",
    "\n",
    "  if len(parts) == 2:\n",
    "    house = office.find( \"House\")\n",
    "    senate = office.find( \"Senate\")\n",
    "    if house >= 0 or senate >= 0:\n",
    "      office = parts[0].strip()\n",
    "      district = parts[1].strip()\n",
    "\n",
    "  if r.jurisdiction is not None:\n",
    "    precinct = r.jurisdiction.name\n",
    "\n",
    "  if precinct is None:\n",
    "    return None\n",
    "\n",
    "  if r.choice is not None:\n",
    "    total_votes = r.choice.total_votes\n",
    "    votes = r.votes\n",
    "    vote_type = r.vote_type\n",
    "    party = r.choice.party\n",
    "    candidate = r.choice.text\n",
    "    candidate = candidate.replace('  ', ' ')\n",
    "\n",
    "    # Martin O'Mally appears with 2 different spellings\n",
    "    if candidate == \"Martin J O'Malley\":\n",
    "      candidate = \"Martin J. O'Malley\"\n",
    "\n",
    "    # Can be Early Vote, Early Vote (North), Early Vote (South)\n",
    "    # could be Early Vote or Early Voting\n",
    "\n",
    "   # \"\"\"\n",
    "   # vote types in the primary file\n",
    "\n",
    "   # Absentee\n",
    "   # Counted Provisional\n",
    "   # Early Vote\n",
    "   # Early Vote - HSB\n",
    "   # Early Vote Ivo Machine\n",
    "   # Early Vote - North\n",
    "   # Early Vote - Ozarka\n",
    "   # Early Vote Paper\n",
    "   # Early Vote - South\n",
    "   # Early Voting\n",
    "   # Election Day\n",
    "   # Election Day Ivo Machine\n",
    "   # Election Day Paper\n",
    "   # Election Night\n",
    "   # Hand Count\n",
    "   # Provisional\n",
    "   # \"\"\"\n",
    "\n",
    "    if (vote_type.startswith(\"Early Vot\")) | (vote_type == \"Early Voting\"):\n",
    "      early_vote = votes\n",
    "    elif (vote_type.startswith('Election Day') | (vote_type == \"Election Night\")):\n",
    "      election_day = votes\n",
    "    elif vote_type.startswith('Absentee'):\n",
    "      absentee = votes \n",
    "    elif (vote_type.startswith('Provisional') | (vote_type == \"Counted Provisional\")):\n",
    "      provisional = votes\n",
    "    elif vote_type.startswith('Hand Count'):\n",
    "      hand_count = votes\n",
    "    else:\n",
    "      print(\"WARNING VOTE TYPE \", vote_type, votes)\n",
    "      other = votes\n",
    "\n",
    "    item = {'county': county, 'precinct': precinct, 'office': office, 'district': district,\n",
    "            'party': party, 'candidate': candidate, 'votes': votes, \n",
    "            'vote_type': vote_type, 'early_vote': early_vote, 'absentee': absentee, 'election_day': election_day,\n",
    "            'provisional': provisional, 'hand_count': hand_count }\n",
    "    return(item)"
   ]
  }
 ],
 "metadata": {
  "kernelspec": {
   "display_name": "Python 3",
   "language": "python",
   "name": "python3"
  },
  "language_info": {
   "codemirror_mode": {
    "name": "ipython",
    "version": 3
   },
   "file_extension": ".py",
   "mimetype": "text/x-python",
   "name": "python",
   "nbconvert_exporter": "python",
   "pygments_lexer": "ipython3",
   "version": "3.6.4"
  }
 },
 "nbformat": 4,
 "nbformat_minor": 2
}
